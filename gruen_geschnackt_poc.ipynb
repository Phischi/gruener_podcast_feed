{
 "cells": [
  {
   "metadata": {
    "ExecuteTime": {
     "end_time": "2025-05-31T16:36:58.190632Z",
     "start_time": "2025-05-31T16:36:58.185433Z"
    }
   },
   "cell_type": "code",
   "source": [
    "script_text = \"\"\"\n",
    "Pia: Willkommen zu einer neuen Folge von \"GrünGeschnackt\" - heute mit einer gekürzten Version des Green Newsletters aufgrund der Hamburger Pfingstferien. Ich bin Pia Plastikfrei.\n",
    "\n",
    "Nico: Und ich bin Nico Nachhaltig. Wir führen euch durch die politischen Updates, anstehenden Veranstaltungen und Möglichkeiten zum Engagement in Hamburg.\n",
    "\n",
    "Pia: Lasst uns gleich loslegen mit den anstehenden Veranstaltungen! Am Sonntag, den 1. Juni 2025 um 13 Uhr, findet eine Radtour zum neuen Quartier Suurheid in Altona statt.\n",
    "\n",
    "Nico: Genau, alle Fahrradbegeisterten aufgepasst! Die Tour startet am Spielplatz im Rathenaupark und endet gegen 17:30 Uhr wieder dort mit einem leckeren Eis als Abschluss. Es gibt spannende Einblicke und gute Gespräche unterwegs.\n",
    "\n",
    "Pia: Weitere Termine, die man sich vormerken sollte, sind unter anderem der \"Speakers' Corner\" am 4. Juni um 19 Uhr zum Thema \"Steuern neu denken - Was ist gerecht?\" in der Grünen Kreisgeschäftsstelle Eimsbüttel.\n",
    "\n",
    "Nico: Auch wichtig ist der digitale Informationsabend für Mitglieder am 10. Juni um 18 Uhr, wo diskutiert wird, was der Koalitionsvertrag von SPD und CDU/CSU für grüne Politik bedeutet.\n",
    "\n",
    "Pia: Und am 25. Juni um 19 Uhr gibt es eine weitere spannende \"Speakers' Corner\" zum Thema \"Das Bedingungslose Grundeinkommen – eine greifbare Utopie?\".\n",
    "\n",
    "Nico: Für alle Fahrradfans startet dann am 13. Juni das Stadtradeln 2025 in Hamburg. Schließ dich dem Team \"GRÜNE HH\" an und leg Kilometer für mehr Radförderung und Klimaschutz zurück.\n",
    "\n",
    "Pia: Außerdem könnt ihr noch am 27. Juni um 19 Uhr über die \"Rückkehr zur Wehrpflicht?\" diskutieren oder am 12. Juli um 10 Uhr an der Landesmitgliederversammlung teilnehmen.\n",
    "\n",
    "Nico: Das war eine kompakte Übersicht über die anstehenden Termine - und wer weiß, vielleicht sehen wir uns ja bei der einen oder anderen Veranstaltung!\n",
    "\n",
    "Pia: Genau, bleibt informiert und engagiert euch für eine grünere Zukunft in Hamburg. Wir freuen uns schon auf den nächsten Newsletter mit weiteren spannenden Themen.\n",
    "\n",
    "Nico: Bleibt dran und bis zum nächsten Mal! Das war's für heute von \"GrünGeschnackt\". Tschüss!\n",
    "\"\"\""
   ],
   "id": "db99cd162211de37",
   "outputs": [],
   "execution_count": 49
  },
  {
   "metadata": {
    "ExecuteTime": {
     "end_time": "2025-05-31T16:49:50.053187Z",
     "start_time": "2025-05-31T16:49:50.046464Z"
    }
   },
   "cell_type": "code",
   "source": [
    "script_text = \"\"\"\n",
    "Willkommen zu einer neuen Folge von \"GrünGeschnackt\" - heute mit einer gekürzten Version des Green Newsletters aufgrund der Hamburger Pfingstferien. Ich bin Pia Plastikfrei.\n",
    "Und ich bin Nico Nachhaltig. Wir führen euch durch die politischen Updates, anstehenden Veranstaltungen und Möglichkeiten zum Engagement in Hamburg.\n",
    "Lasst uns gleich loslegen mit den anstehenden Veranstaltungen! Am Sonntag, den 1. Juni 2025 um 13 Uhr, findet eine Radtour zum neuen Quartier Suurheid in Altona statt.\n",
    "Genau, alle Fahrradbegeisterten aufgepasst! Die Tour startet am Spielplatz im Rathenaupark und endet gegen 17:30 Uhr wieder dort mit einem leckeren Eis als Abschluss. Es gibt spannende Einblicke und gute Gespräche unterwegs.\n",
    "Weitere Termine, die man sich vormerken sollte, sind unter anderem der \"Speakers' Corner\" am 4. Juni um 19 Uhr zum Thema \"Steuern neu denken - Was ist gerecht?\" in der Grünen Kreisgeschäftsstelle Eimsbüttel.\n",
    "Auch wichtig ist der digitale Informationsabend für Mitglieder am 10. Juni um 18 Uhr, wo diskutiert wird, was der Koalitionsvertrag von SPD und CDU/CSU für grüne Politik bedeutet.\n",
    "Und am 25. Juni um 19 Uhr gibt es eine weitere spannende \"Speakers' Corner\" zum Thema \"Das Bedingungslose Grundeinkommen – eine greifbare Utopie?\".\n",
    "Für alle Fahrradfans startet dann am 13. Juni das Stadtradeln 2025 in Hamburg. Schließ dich dem Team \"GRÜNE HH\" an und leg Kilometer für mehr Radförderung und Klimaschutz zurück.\n",
    "Außerdem könnt ihr noch am 27. Juni um 19 Uhr über die \"Rückkehr zur Wehrpflicht?\" diskutieren oder am 12. Juli um 10 Uhr an der Landesmitgliederversammlung teilnehmen.\n",
    "Das war eine kompakte Übersicht über die anstehenden Termine - und wer weiß, vielleicht sehen wir uns ja bei der einen oder anderen Veranstaltung!\n",
    "Genau, bleibt informiert und engagiert euch für eine grünere Zukunft in Hamburg. Wir freuen uns schon auf den nächsten Newsletter mit weiteren spannenden Themen.\n",
    "Bleibt dran und bis zum nächsten Mal! Das war's für heute von \"GrünGeschnackt\". Tschüss!\n",
    "\"\"\""
   ],
   "id": "1110e97b967dfaca",
   "outputs": [],
   "execution_count": 55
  },
  {
   "metadata": {
    "ExecuteTime": {
     "end_time": "2025-05-31T16:44:46.737861Z",
     "start_time": "2025-05-31T16:44:46.711831Z"
    }
   },
   "cell_type": "code",
   "source": [
    "import openai\n",
    "import os\n",
    "from dotenv import load_dotenv\n",
    "from pathlib import Path\n",
    "from pydub import AudioSegment\n",
    "import re # For parsing speaker lines\n",
    "\n",
    "# --- Configuration ---\n",
    "load_dotenv()\n",
    "openai.api_key = os.getenv(\"OPENAI_API_KEY\")\n",
    "\n",
    "if not openai.api_key:\n",
    "    print(\"Error: OPENAI_API_KEY environment variable not set.\")\n",
    "    exit()\n",
    "\n",
    "client = openai.OpenAI()\n",
    "\n",
    "# --- Voice Mapping ---\n",
    "# You can choose from: alloy, echo, fable, onyx, nova, shimmer\n",
    "VOICE_MAPPING = {\n",
    "    \"Pia\": \"Kore\",\n",
    "    \"Nico\": \"Kore\", # Or another available Gemini prebuilt voice if you find one\n",
    "    \"Narrator\": \"Kore\" # Or another\n",
    "}\n",
    "VOICE_MAPPING_OPEN_AI = {\n",
    "    \"Pia\": \"nova\",  # Female-sounding\n",
    "    \"Nico\": \"verse\",  # Male-sounding\n",
    "    \"Narrator\": \"shimmer\" # Neutral, can also be used for system messages\n",
    "}\n",
    "GEMINI_TTS_MODEL_NAME = \"models/tts-1\"\n",
    "USER_GEMINI_TTS_MODEL = \"gemini-2.5-flash-preview-tts\"\n",
    "\n",
    "# --- Output and Temporary Files ---\n",
    "output_filename = Path(\"dialogue_podcast_gemini.mp3\")\n",
    "temp_audio_dir = Path(\"temp_audio_segments\")\n"
   ],
   "id": "30dfabd8de53bc6f",
   "outputs": [],
   "execution_count": 52
  },
  {
   "metadata": {
    "ExecuteTime": {
     "end_time": "2025-05-31T16:33:34.001924Z",
     "start_time": "2025-05-31T16:33:33.992871Z"
    }
   },
   "cell_type": "code",
   "source": [
    "def parse_script(text):\n",
    "    \"\"\"Splits the script into speaker and line segments.\"\"\"\n",
    "    lines = text.strip().split('\\n')\n",
    "    segments = []\n",
    "    current_speaker = \"Narrator\" # Default for lines without explicit speaker\n",
    "\n",
    "    for line in lines:\n",
    "        line = line.strip()\n",
    "        if not line: # Skip empty lines\n",
    "            continue\n",
    "\n",
    "        match = re.match(r\"^(Pia|Nico):\\s*(.*)\", line, re.IGNORECASE)\n",
    "        if match:\n",
    "            speaker = match.group(1).capitalize() # Normalize to Pia or Nico\n",
    "            dialogue = match.group(2).strip()\n",
    "            if dialogue: # Only add if there's actual dialogue\n",
    "                segments.append({\"speaker\": speaker, \"text\": dialogue})\n",
    "            current_speaker = speaker # Update current speaker for subsequent non-prefixed lines (if any, though not in this script)\n",
    "\n",
    "    # Refined parsing for the given specific script structure:\n",
    "    parsed_segments = []\n",
    "    raw_lines = text.strip().split('\\n')\n",
    "    talker = 0\n",
    "    for r_line in raw_lines:\n",
    "        r_line = r_line.strip()\n",
    "        if not r_line:\n",
    "            continue\n",
    "\n",
    "        pia_match = re.match(r\"^Pia:\\s*(.*)\", r_line, re.IGNORECASE)\n",
    "        nico_match = re.match(r\"^Nico:\\s*(.*)\", r_line, re.IGNORECASE)\n",
    "\n",
    "        if talker == 0:\n",
    "            talker = 1\n",
    "            # dialogue = pia_match.group(1).strip()\n",
    "            # if dialogue:\n",
    "            parsed_segments.append({\"speaker\": \"Pia\", \"text\": r_line})\n",
    "        else:\n",
    "            talker = 0\n",
    "            # dialogue = nico_match.group(1).strip()\n",
    "            # if dialogue:\n",
    "            parsed_segments.append({\"speaker\": \"Nico\", \"text\": r_line})\n",
    "        # else:\n",
    "        #     # Treat as narrator if not Pia or Nico\n",
    "        #     parsed_segments.append({\"speaker\": \"Narrator\", \"text\": r_line})\n",
    "    return parsed_segments\n"
   ],
   "id": "e858bc1fdafa0167",
   "outputs": [],
   "execution_count": 47
  },
  {
   "metadata": {
    "ExecuteTime": {
     "end_time": "2025-05-31T16:09:05.961351Z",
     "start_time": "2025-05-31T16:09:05.954786Z"
    }
   },
   "cell_type": "code",
   "source": [
    "from google import genai\n",
    "from google.genai import types\n",
    "import wave\n",
    "\n",
    "load_dotenv()\n",
    "GEMINI_API_KEY = os.getenv(\"GEMINI_API_TOKEN\")\n",
    "# client = genai.Client(api_key=GEMINI_API_KEY)"
   ],
   "id": "a22cf13fe25aa0e6",
   "outputs": [],
   "execution_count": 32
  },
  {
   "metadata": {
    "ExecuteTime": {
     "end_time": "2025-05-31T16:09:07.317306Z",
     "start_time": "2025-05-31T16:09:07.309365Z"
    }
   },
   "cell_type": "code",
   "source": [
    "def generate_speech_segment_openai(text_input, voice_name, segment_filepath):\n",
    "    \"\"\"Generates speech for a text segment and saves it.\"\"\"\n",
    "    try:\n",
    "        print(f\"🔊 Generating speech for '{text_input[:30]}...' with voice '{voice_name}'\")\n",
    "        with client.audio.speech.with_streaming_response.create(\n",
    "            model=\"gpt-4o-mini-tts\",\n",
    "            voice=voice_name,\n",
    "            input=text_input,\n",
    "            # response_format=\"mp3\" # mp3 is default\n",
    "        ) as response:\n",
    "            response.stream_to_file(segment_filepath)\n",
    "        print(f\"   Segment saved: {segment_filepath}\")\n",
    "        return True\n",
    "    except Exception as e:\n",
    "        print(f\"❌ Error generating speech for '{text_input[:30]}...': {e}\")\n",
    "        if \"401\" in str(e):\n",
    "             print(\"   This might be an issue with your OpenAI API key or organization setup for TTS.\")\n",
    "        return False"
   ],
   "id": "6dafaeb64ba45f8a",
   "outputs": [],
   "execution_count": 33
  },
  {
   "metadata": {
    "ExecuteTime": {
     "end_time": "2025-05-31T16:06:41.209888Z",
     "start_time": "2025-05-31T16:06:41.201172Z"
    }
   },
   "cell_type": "code",
   "source": [
    "def wave_file(filename, pcm, channels=1, rate=24000, sample_width=2):\n",
    "    print(\"Saving file ...\")\n",
    "    with wave.open(filename, \"wb\") as wf:\n",
    "      wf.setnchannels(channels)\n",
    "      wf.setsampwidth(sample_width)\n",
    "      wf.setframerate(rate)\n",
    "      wf.writeframes(pcm)\n",
    "\n",
    "\n",
    "def generate_speech_segment(text_input, voice_name, segment_filepath_wav):\n",
    "    print(\"Creating text to speech segment...\")\n",
    "    print(f\"FilePath: {segment_filepath_wav}\")\n",
    "    print(f\"Voice: {voice_name}\")\n",
    "    print(f\"Text: {text_input}\")\n",
    "    GEMINI_API_KEY = os.getenv(\"GEMINI_API_TOKEN\")\n",
    "    client = genai.Client(api_key=GEMINI_API_KEY)\n",
    "\n",
    "    response = client.models.generate_content(\n",
    "       model=\"gemini-2.5-flash-preview-tts\",\n",
    "       contents=f\"Lies bitte folgenden Text vor, als wärest du Teil eines Podcasts: {text_input}\",\n",
    "       config=types.GenerateContentConfig(\n",
    "          response_modalities=[\"AUDIO\"],\n",
    "          speech_config=types.SpeechConfig(\n",
    "             voice_config=types.VoiceConfig(\n",
    "                prebuilt_voice_config=types.PrebuiltVoiceConfig(\n",
    "                   voice_name=voice_name,\n",
    "                )\n",
    "             )\n",
    "          ),\n",
    "       )\n",
    "    )\n",
    "\n",
    "    data = response.candidates[0].content.parts[0].inline_data.data\n",
    "\n",
    "    print(\"Saving file ...\")\n",
    "    with wave.open(str(segment_filepath_wav), \"wb\") as wf:\n",
    "      wf.setnchannels(1)\n",
    "      wf.setsampwidth(2)\n",
    "      wf.setframerate(24000)\n",
    "      wf.writeframes(data)\n"
   ],
   "id": "310663b3ec02898a",
   "outputs": [],
   "execution_count": 29
  },
  {
   "metadata": {
    "ExecuteTime": {
     "end_time": "2025-05-31T16:50:33.966692Z",
     "start_time": "2025-05-31T16:50:04.648470Z"
    }
   },
   "cell_type": "code",
   "source": [
    "# Create temporary directory if it doesn't exist\n",
    "temp_audio_dir.mkdir(parents=True, exist_ok=True)\n",
    "\n",
    "parsed_dialogue = parse_script(script_text)\n",
    "\n",
    "if not parsed_dialogue:\n",
    "    print(\"No dialogue segments found. Exiting.\")\n",
    "    exit(\"No parsed dialogue\")\n",
    "\n",
    "segment_files = []\n",
    "combined_audio = AudioSegment.empty()\n",
    "\n",
    "print(f\"\\nProcessing {len(parsed_dialogue)} dialogue segments...\")\n",
    "\n",
    "for i, segment_data in enumerate(parsed_dialogue):\n",
    "    speaker = segment_data[\"speaker\"]\n",
    "    text = segment_data[\"text\"]\n",
    "    voice = VOICE_MAPPING_OPEN_AI.get(speaker, VOICE_MAPPING[\"Narrator\"]) # Default to Narrator voice if speaker not in map\n",
    "\n",
    "    segment_filename = temp_audio_dir / f\"segment_{i:03d}_{speaker.lower()}.mp3\"\n",
    "\n",
    "    if generate_speech_segment_openai(text, voice, segment_filename):\n",
    "        try:\n",
    "            audio_segment = AudioSegment.from_mp3(segment_filename)\n",
    "            combined_audio += audio_segment\n",
    "            # Add a small silence between segments, except for the last one\n",
    "            if i < len(parsed_dialogue) - 1:\n",
    "                if speaker == \"Narrator\" and (parsed_dialogue[i+1][\"speaker\"] == \"Pia\" or parsed_dialogue[i+1][\"speaker\"] == \"Nico\"):\n",
    "                    combined_audio += AudioSegment.silent(duration=700) # Longer pause before character speaks\n",
    "                elif (speaker == \"Pia\" or speaker == \"Nico\") and parsed_dialogue[i+1][\"speaker\"] == \"Narrator\":\n",
    "                    combined_audio += AudioSegment.silent(duration=700) # Longer pause before narrator speaks\n",
    "                elif speaker != parsed_dialogue[i+1][\"speaker\"]: # Different speaker\n",
    "                    combined_audio += AudioSegment.silent(duration=500) # Pause between different speakers\n",
    "                else: # Same speaker (though unlikely with current parsing)\n",
    "                    combined_audio += AudioSegment.silent(duration=200)\n",
    "            segment_files.append(segment_filename) # Keep track for cleanup\n",
    "        except Exception as e:\n",
    "            print(f\"❌ Error loading or concatenating audio segment {segment_filename}: {e}\")\n",
    "    else:\n",
    "        print(f\"Skipping segment due to TTS generation error: {text[:30]}...\")\n",
    "\n",
    "\n",
    "if len(segment_files) > 0 and len(combined_audio) > 0 :\n",
    "    try:\n",
    "        print(f\"\\n🎵 Exporting combined audio to {output_filename}...\")\n",
    "        combined_audio.export(output_filename, format=\"mp3\")\n",
    "        print(f\"✅ Successfully created {output_filename}\")\n",
    "    except Exception as e:\n",
    "        print(f\"❌ Error exporting combined audio: {e}\")\n",
    "else:\n",
    "    print(\"No audio segments were successfully generated or combined. Output file not created.\")\n",
    "\n",
    "# --- Cleanup ---\n",
    "# try:\n",
    "#     print(f\"\\n🧹 Cleaning up temporary directory: {temp_audio_dir}\")\n",
    "#     shutil.rmtree(temp_audio_dir)\n",
    "#     print(\"   Temporary directory cleaned up.\")\n",
    "# except Exception as e:\n",
    "#     print(f\"   Error cleaning up temporary directory: {e}\")\n",
    "print(f\"\\nℹ️ Temporary audio segments are in: {temp_audio_dir.resolve()}\")\n",
    "print(\"   You may want to delete this directory manually afte   r checking the segments.\")"
   ],
   "id": "initial_id",
   "outputs": [
    {
     "name": "stdout",
     "output_type": "stream",
     "text": [
      "\n",
      "Processing 12 dialogue segments...\n",
      "🔊 Generating speech for 'Willkommen zu einer neuen Folg...' with voice 'nova'\n",
      "   Segment saved: temp_audio_segments/segment_000_pia.mp3\n",
      "❌ Error loading or concatenating audio segment temp_audio_segments/segment_000_pia.mp3: [Errno 2] No such file or directory: 'ffprobe'\n",
      "🔊 Generating speech for 'Und ich bin Nico Nachhaltig. W...' with voice 'fable'\n"
     ]
    },
    {
     "name": "stderr",
     "output_type": "stream",
     "text": [
      "/home/philipp/anaconda3/lib/python3.12/site-packages/pydub/utils.py:198: RuntimeWarning: Couldn't find ffprobe or avprobe - defaulting to ffprobe, but may not work\n",
      "  warn(\"Couldn't find ffprobe or avprobe - defaulting to ffprobe, but may not work\", RuntimeWarning)\n"
     ]
    },
    {
     "name": "stdout",
     "output_type": "stream",
     "text": [
      "   Segment saved: temp_audio_segments/segment_001_nico.mp3\n",
      "❌ Error loading or concatenating audio segment temp_audio_segments/segment_001_nico.mp3: [Errno 2] No such file or directory: 'ffprobe'\n",
      "🔊 Generating speech for 'Lasst uns gleich loslegen mit ...' with voice 'nova'\n"
     ]
    },
    {
     "name": "stderr",
     "output_type": "stream",
     "text": [
      "/home/philipp/anaconda3/lib/python3.12/site-packages/pydub/utils.py:198: RuntimeWarning: Couldn't find ffprobe or avprobe - defaulting to ffprobe, but may not work\n",
      "  warn(\"Couldn't find ffprobe or avprobe - defaulting to ffprobe, but may not work\", RuntimeWarning)\n"
     ]
    },
    {
     "name": "stdout",
     "output_type": "stream",
     "text": [
      "   Segment saved: temp_audio_segments/segment_002_pia.mp3\n",
      "❌ Error loading or concatenating audio segment temp_audio_segments/segment_002_pia.mp3: [Errno 2] No such file or directory: 'ffprobe'\n",
      "🔊 Generating speech for 'Genau, alle Fahrradbegeisterte...' with voice 'fable'\n"
     ]
    },
    {
     "name": "stderr",
     "output_type": "stream",
     "text": [
      "/home/philipp/anaconda3/lib/python3.12/site-packages/pydub/utils.py:198: RuntimeWarning: Couldn't find ffprobe or avprobe - defaulting to ffprobe, but may not work\n",
      "  warn(\"Couldn't find ffprobe or avprobe - defaulting to ffprobe, but may not work\", RuntimeWarning)\n"
     ]
    },
    {
     "name": "stdout",
     "output_type": "stream",
     "text": [
      "   Segment saved: temp_audio_segments/segment_003_nico.mp3\n",
      "❌ Error loading or concatenating audio segment temp_audio_segments/segment_003_nico.mp3: [Errno 2] No such file or directory: 'ffprobe'\n",
      "🔊 Generating speech for 'Weitere Termine, die man sich ...' with voice 'nova'\n"
     ]
    },
    {
     "name": "stderr",
     "output_type": "stream",
     "text": [
      "/home/philipp/anaconda3/lib/python3.12/site-packages/pydub/utils.py:198: RuntimeWarning: Couldn't find ffprobe or avprobe - defaulting to ffprobe, but may not work\n",
      "  warn(\"Couldn't find ffprobe or avprobe - defaulting to ffprobe, but may not work\", RuntimeWarning)\n"
     ]
    },
    {
     "name": "stdout",
     "output_type": "stream",
     "text": [
      "   Segment saved: temp_audio_segments/segment_004_pia.mp3\n",
      "❌ Error loading or concatenating audio segment temp_audio_segments/segment_004_pia.mp3: [Errno 2] No such file or directory: 'ffprobe'\n",
      "🔊 Generating speech for 'Auch wichtig ist der digitale ...' with voice 'fable'\n"
     ]
    },
    {
     "name": "stderr",
     "output_type": "stream",
     "text": [
      "/home/philipp/anaconda3/lib/python3.12/site-packages/pydub/utils.py:198: RuntimeWarning: Couldn't find ffprobe or avprobe - defaulting to ffprobe, but may not work\n",
      "  warn(\"Couldn't find ffprobe or avprobe - defaulting to ffprobe, but may not work\", RuntimeWarning)\n"
     ]
    },
    {
     "name": "stdout",
     "output_type": "stream",
     "text": [
      "   Segment saved: temp_audio_segments/segment_005_nico.mp3\n",
      "❌ Error loading or concatenating audio segment temp_audio_segments/segment_005_nico.mp3: [Errno 2] No such file or directory: 'ffprobe'\n",
      "🔊 Generating speech for 'Und am 25. Juni um 19 Uhr gibt...' with voice 'nova'\n"
     ]
    },
    {
     "name": "stderr",
     "output_type": "stream",
     "text": [
      "/home/philipp/anaconda3/lib/python3.12/site-packages/pydub/utils.py:198: RuntimeWarning: Couldn't find ffprobe or avprobe - defaulting to ffprobe, but may not work\n",
      "  warn(\"Couldn't find ffprobe or avprobe - defaulting to ffprobe, but may not work\", RuntimeWarning)\n"
     ]
    },
    {
     "name": "stdout",
     "output_type": "stream",
     "text": [
      "   Segment saved: temp_audio_segments/segment_006_pia.mp3\n",
      "❌ Error loading or concatenating audio segment temp_audio_segments/segment_006_pia.mp3: [Errno 2] No such file or directory: 'ffprobe'\n",
      "🔊 Generating speech for 'Für alle Fahrradfans startet d...' with voice 'fable'\n"
     ]
    },
    {
     "name": "stderr",
     "output_type": "stream",
     "text": [
      "/home/philipp/anaconda3/lib/python3.12/site-packages/pydub/utils.py:198: RuntimeWarning: Couldn't find ffprobe or avprobe - defaulting to ffprobe, but may not work\n",
      "  warn(\"Couldn't find ffprobe or avprobe - defaulting to ffprobe, but may not work\", RuntimeWarning)\n"
     ]
    },
    {
     "name": "stdout",
     "output_type": "stream",
     "text": [
      "   Segment saved: temp_audio_segments/segment_007_nico.mp3\n",
      "❌ Error loading or concatenating audio segment temp_audio_segments/segment_007_nico.mp3: [Errno 2] No such file or directory: 'ffprobe'\n",
      "🔊 Generating speech for 'Außerdem könnt ihr noch am 27....' with voice 'nova'\n"
     ]
    },
    {
     "name": "stderr",
     "output_type": "stream",
     "text": [
      "/home/philipp/anaconda3/lib/python3.12/site-packages/pydub/utils.py:198: RuntimeWarning: Couldn't find ffprobe or avprobe - defaulting to ffprobe, but may not work\n",
      "  warn(\"Couldn't find ffprobe or avprobe - defaulting to ffprobe, but may not work\", RuntimeWarning)\n"
     ]
    },
    {
     "name": "stdout",
     "output_type": "stream",
     "text": [
      "   Segment saved: temp_audio_segments/segment_008_pia.mp3\n",
      "❌ Error loading or concatenating audio segment temp_audio_segments/segment_008_pia.mp3: [Errno 2] No such file or directory: 'ffprobe'\n",
      "🔊 Generating speech for 'Das war eine kompakte Übersich...' with voice 'fable'\n"
     ]
    },
    {
     "name": "stderr",
     "output_type": "stream",
     "text": [
      "/home/philipp/anaconda3/lib/python3.12/site-packages/pydub/utils.py:198: RuntimeWarning: Couldn't find ffprobe or avprobe - defaulting to ffprobe, but may not work\n",
      "  warn(\"Couldn't find ffprobe or avprobe - defaulting to ffprobe, but may not work\", RuntimeWarning)\n"
     ]
    },
    {
     "name": "stdout",
     "output_type": "stream",
     "text": [
      "   Segment saved: temp_audio_segments/segment_009_nico.mp3\n",
      "❌ Error loading or concatenating audio segment temp_audio_segments/segment_009_nico.mp3: [Errno 2] No such file or directory: 'ffprobe'\n",
      "🔊 Generating speech for 'Genau, bleibt informiert und e...' with voice 'nova'\n"
     ]
    },
    {
     "name": "stderr",
     "output_type": "stream",
     "text": [
      "/home/philipp/anaconda3/lib/python3.12/site-packages/pydub/utils.py:198: RuntimeWarning: Couldn't find ffprobe or avprobe - defaulting to ffprobe, but may not work\n",
      "  warn(\"Couldn't find ffprobe or avprobe - defaulting to ffprobe, but may not work\", RuntimeWarning)\n"
     ]
    },
    {
     "name": "stdout",
     "output_type": "stream",
     "text": [
      "   Segment saved: temp_audio_segments/segment_010_pia.mp3\n",
      "❌ Error loading or concatenating audio segment temp_audio_segments/segment_010_pia.mp3: [Errno 2] No such file or directory: 'ffprobe'\n",
      "🔊 Generating speech for 'Bleibt dran und bis zum nächst...' with voice 'fable'\n"
     ]
    },
    {
     "name": "stderr",
     "output_type": "stream",
     "text": [
      "/home/philipp/anaconda3/lib/python3.12/site-packages/pydub/utils.py:198: RuntimeWarning: Couldn't find ffprobe or avprobe - defaulting to ffprobe, but may not work\n",
      "  warn(\"Couldn't find ffprobe or avprobe - defaulting to ffprobe, but may not work\", RuntimeWarning)\n"
     ]
    },
    {
     "name": "stdout",
     "output_type": "stream",
     "text": [
      "   Segment saved: temp_audio_segments/segment_011_nico.mp3\n",
      "❌ Error loading or concatenating audio segment temp_audio_segments/segment_011_nico.mp3: [Errno 2] No such file or directory: 'ffprobe'\n",
      "No audio segments were successfully generated or combined. Output file not created.\n",
      "\n",
      "ℹ️ Temporary audio segments are in: /home/philipp/projects/gruene/podcast/temp_audio_segments\n",
      "   You may want to delete this directory manually afte   r checking the segments.\n"
     ]
    },
    {
     "name": "stderr",
     "output_type": "stream",
     "text": [
      "/home/philipp/anaconda3/lib/python3.12/site-packages/pydub/utils.py:198: RuntimeWarning: Couldn't find ffprobe or avprobe - defaulting to ffprobe, but may not work\n",
      "  warn(\"Couldn't find ffprobe or avprobe - defaulting to ffprobe, but may not work\", RuntimeWarning)\n"
     ]
    }
   ],
   "execution_count": 56
  }
 ],
 "metadata": {
  "kernelspec": {
   "display_name": "Python 3",
   "language": "python",
   "name": "python3"
  },
  "language_info": {
   "codemirror_mode": {
    "name": "ipython",
    "version": 2
   },
   "file_extension": ".py",
   "mimetype": "text/x-python",
   "name": "python",
   "nbconvert_exporter": "python",
   "pygments_lexer": "ipython2",
   "version": "2.7.6"
  }
 },
 "nbformat": 4,
 "nbformat_minor": 5
}
