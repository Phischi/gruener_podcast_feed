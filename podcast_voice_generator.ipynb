{
 "cells": [
  {
   "cell_type": "code",
   "id": "initial_id",
   "metadata": {
    "collapsed": true,
    "ExecuteTime": {
     "end_time": "2025-05-31T14:03:34.897351Z",
     "start_time": "2025-05-31T14:03:26.255708Z"
    }
   },
   "source": [
    "import openai\n",
    "import os\n",
    "from dotenv import load_dotenv\n",
    "\n",
    "# --- Configuration ---\n",
    "# Replace with your actual OpenAI API key\n",
    "# It's best to set this as an environment variable for security\n",
    "# For example: openai.api_key = os.getenv(\"OPENAI_API_KEY\")\n",
    "load_dotenv()\n",
    "openai.api_key = os.getenv(\"OPENAI_API_KEY\")\n",
    "\n",
    "client = openai.OpenAI()\n",
    "\n",
    "# --- 1. Get Topic from User ---\n",
    "topic = input(\"Enter a topic you want an explanation for: \")\n",
    "\n",
    "# --- 2. Generate Text with OpenAI ---\n",
    "explanation_text = None\n",
    "try:\n",
    "    print(f\"\\n🤖 Generating explanation for '{topic}'...\")\n",
    "    response = client.chat.completions.create(\n",
    "        model=\"gpt-3.5-turbo\",  # Or your preferred model like \"gpt-4o\"\n",
    "        messages=[\n",
    "            {\"role\": \"system\", \"content\": \"You are a helpful assistant that provides clear and simple explanations.\"},\n",
    "            {\"role\": \"user\", \"content\": f\"Explain '{topic}' in a simple way, in about 2-4 sentences.\"}\n",
    "        ],\n",
    "        max_tokens=150,\n",
    "        temperature=0.7\n",
    "    )\n",
    "    explanation_text = response.choices[0].message.content.strip()\n",
    "    print(f\"\\n📜 Explanation:\\n{explanation_text}\")\n",
    "except Exception as e:\n",
    "    print(f\"Error generating text with OpenAI: {e}\")"
   ],
   "outputs": [
    {
     "name": "stdout",
     "output_type": "stream",
     "text": [
      "\n",
      "🤖 Generating explanation for 'What is the meaning of life?'...\n",
      "\n",
      "📜 Explanation:\n",
      "The meaning of life is a big question that people have been trying to answer for a long time. It's all about finding your own purpose or reason for being here. For some, it might be about being happy, helping others, or making a difference in the world. Ultimately, the meaning of life is something each person has to figure out for themselves.\n"
     ]
    }
   ],
   "execution_count": 8
  },
  {
   "metadata": {
    "ExecuteTime": {
     "end_time": "2025-05-31T14:05:54.820015Z",
     "start_time": "2025-05-31T14:05:51.565157Z"
    }
   },
   "cell_type": "code",
   "source": [
    "import playsound\n",
    "from pathlib import Path\n",
    "\n",
    "if explanation_text:\n",
    "    print(\"\\n🔊 Converting text to OpenAI speech...\")\n",
    "    speech_file_path = Path(\"~/projects/gruene/podcast/explanation_openai.mp3\")\n",
    "\n",
    "    try:\n",
    "        # Available voices: alloy, echo, fable, onyx, nova, shimmer\n",
    "        # Available models: tts-1, tts-1-hd (HD is higher quality, potentially higher latency/cost)\n",
    "        # You can also choose `gpt-4o-mini-tts` as a model\n",
    "        response = client.audio.speech.create(\n",
    "            model=\"tts-1\",         # or \"tts-1-hd\" or \"gpt-4o-mini-tts\"\n",
    "            voice=\"alloy\",         # Choose your preferred voice\n",
    "            input=explanation_text,\n",
    "            # response_format=\"mp3\" # mp3 is default. Other options: opus, aac, flac, wav, pcm\n",
    "        )\n",
    "\n",
    "        # Stream the audio to a file\n",
    "        response.stream_to_file(speech_file_path)\n",
    "        print(f\"Audio saved as {speech_file_path}\")\n",
    "\n",
    "        # --- 4. Play the Voice Line ---\n",
    "        print(\"Playing audio...\")\n",
    "        playsound.playsound(str(speech_file_path)) # playsound needs a string path\n",
    "        print(\"Playback finished.\")\n",
    "\n",
    "        # Optional: Clean up the audio file\n",
    "        # os.remove(speech_file_path)\n",
    "        # print(f\"Temporary audio file {speech_file_path} removed.\")\n",
    "\n",
    "    except Exception as e:\n",
    "        print(f\"Error with OpenAI TTS or playing sound: {e}\")\n",
    "        if \"401\" in str(e): # Basic check for authentication error\n",
    "             print(\"This might be an issue with your OpenAI API key or organization setup for TTS.\")\n",
    "        elif \"Unsupported olha\" in str(e) or \"Unsupported model\" in str(e): # Example for model/voice error\n",
    "             print(\"Please ensure the selected voice and model for TTS are supported by your API access.\")\n",
    "\n",
    "\n",
    "else:\n",
    "    print(\"No explanation text to convert to speech.\")"
   ],
   "id": "6c322b80e0b933e5",
   "outputs": [
    {
     "name": "stdout",
     "output_type": "stream",
     "text": [
      "\n",
      "🔊 Converting text to OpenAI speech...\n",
      "Error with OpenAI TTS or playing sound: [Errno 2] No such file or directory: '~/projects/gruene/podcast/explanation_openai.mp3'\n"
     ]
    },
    {
     "name": "stderr",
     "output_type": "stream",
     "text": [
      "/tmp/ipykernel_220351/2683817295.py:20: DeprecationWarning: Due to a bug, this method doesn't actually stream the response content, `.with_streaming_response.method()` should be used instead\n",
      "  response.stream_to_file(speech_file_path)\n"
     ]
    }
   ],
   "execution_count": 12
  }
 ],
 "metadata": {
  "kernelspec": {
   "display_name": "Python 3",
   "language": "python",
   "name": "python3"
  },
  "language_info": {
   "codemirror_mode": {
    "name": "ipython",
    "version": 2
   },
   "file_extension": ".py",
   "mimetype": "text/x-python",
   "name": "python",
   "nbconvert_exporter": "python",
   "pygments_lexer": "ipython2",
   "version": "2.7.6"
  }
 },
 "nbformat": 4,
 "nbformat_minor": 5
}
