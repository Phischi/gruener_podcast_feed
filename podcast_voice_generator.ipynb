{
 "cells": [
  {
   "cell_type": "code",
   "id": "initial_id",
   "metadata": {
    "collapsed": true,
    "ExecuteTime": {
     "end_time": "2025-05-31T14:57:06.296621Z",
     "start_time": "2025-05-31T14:57:03.205380Z"
    }
   },
   "source": [
    "import openai\n",
    "import os\n",
    "from dotenv import load_dotenv\n",
    "\n",
    "# --- Configuration ---\n",
    "# Replace with your actual OpenAI API key\n",
    "# It's best to set this as an environment variable for security\n",
    "# For example: openai.api_key = os.getenv(\"OPENAI_API_KEY\")\n",
    "load_dotenv()\n",
    "openai.api_key = os.getenv(\"OPENAI_API_KEY\")\n",
    "\n",
    "client = openai.OpenAI()\n",
    "\n",
    "explanation_text = None\n",
    "try:\n",
    "    print(f\"\\n🤖 Text wird generiert...\")\n",
    "    response = client.chat.completions.create(\n",
    "        model=\"gpt-3.5-turbo\",  # Or your preferred model like \"gpt-4o\"\n",
    "        messages=[\n",
    "            {\"role\": \"system\", \"content\": \"Du bist ein nützlicher und hilfsbereiter Assisstent, welcher klare und simple Erklärungen liefert.\"},\n",
    "            {\"role\": \"user\", \"content\": f\"Philosophiere über das Leben und die Reize des Meeres.\"}\n",
    "        ],\n",
    "        max_tokens=150,\n",
    "        temperature=0.7\n",
    "    )\n",
    "    explanation_text = response.choices[0].message.content.strip()\n",
    "    print(f\"\\n📜 Explanation:\\n{explanation_text}\")\n",
    "except Exception as e:\n",
    "    print(f\"Error generating text with OpenAI: {e}\")"
   ],
   "outputs": [
    {
     "name": "stdout",
     "output_type": "stream",
     "text": [
      "\n",
      "🤖 Text wird generiert...\n",
      "\n",
      "📜 Explanation:\n",
      "Das Leben kann mit dem Meer verglichen werden - voller Tiefe, Geheimnisse und Schönheit. Das Meer, mit seiner endlosen Weite und seinen ständig wechselnden Gezeiten, symbolisiert die verschiedenen Phasen und Herausforderungen, die wir im Leben durchlaufen. Es kann sowohl ruhig und friedlich als auch stürmisch und wild sein, genauso wie unsere eigenen Emotionen und Erfahrungen.\n",
      "\n",
      "Die Reize des Meeres sind vielfältig - die beruhigenden Klänge der Wellen, die erfrischende Brise, die salzige Luft und die faszinierende Vielfalt des Meeres\n"
     ]
    }
   ],
   "execution_count": 8
  },
  {
   "metadata": {
    "ExecuteTime": {
     "end_time": "2025-05-31T14:28:54.079865Z",
     "start_time": "2025-05-31T14:28:14.579781Z"
    }
   },
   "cell_type": "code",
   "source": [
    "import playsound\n",
    "from pathlib import Path\n",
    "\n",
    "if explanation_text:\n",
    "    print(\"\\n🔊 Converting text to OpenAI speech...\")\n",
    "    cur_dir = os.getcwd()\n",
    "    speech_file_path = cur_dir + \"/speech.mp3\"\n",
    "\n",
    "    try:\n",
    "        # Use .with_streaming_response for the API call\n",
    "        with client.audio.speech.with_streaming_response.create(\n",
    "            model=\"tts-1\",\n",
    "            voice=\"alloy\",\n",
    "            input=explanation_text,\n",
    "            # response_format=\"mp3\" # mp3 is default\n",
    "        ) as response:\n",
    "            # Now, use the .stream_to_file() method from the streaming response object\n",
    "            response.stream_to_file(speech_file_path)\n",
    "\n",
    "        print(f\"Audio saved as {speech_file_path}\")\n",
    "        print(\"Playing audio...\")\n",
    "        playsound.playsound(str(speech_file_path))\n",
    "        print(\"Playback finished.\")\n",
    "\n",
    "    except Exception as e:\n",
    "        print(f\"Error with OpenAI TTS or playing sound: {e}\")\n",
    "        if \"401\" in str(e): # Basic check for authentication error\n",
    "             print(\"This might be an issue with your OpenAI API key or organization setup for TTS.\")\n",
    "        elif \"Unsupported olha\" in str(e) or \"Unsupported model\" in str(e): # Example for model/voice error\n",
    "             print(\"Please ensure the selected voice and model for TTS are supported by your API access.\")\n",
    "else:\n",
    "    print(\"No explanation text to convert to speech.\")"
   ],
   "id": "6c322b80e0b933e5",
   "outputs": [
    {
     "name": "stdout",
     "output_type": "stream",
     "text": [
      "\n",
      "🔊 Converting text to OpenAI speech...\n",
      "Audio saved as /home/philipp/projects/gruene/podcast/speech.mp3\n",
      "Playing audio...\n",
      "Playback finished.\n"
     ]
    }
   ],
   "execution_count": 29
  },
  {
   "metadata": {
    "ExecuteTime": {
     "end_time": "2025-05-31T15:15:24.029957Z",
     "start_time": "2025-05-31T15:15:12.744419Z"
    }
   },
   "cell_type": "code",
   "source": [
    "from google import genai\n",
    "from google.genai import types\n",
    "import wave\n",
    "\n",
    "# Set up the wave file to save the output:\n",
    "def wave_file(filename, pcm, channels=1, rate=24000, sample_width=2):\n",
    "   with wave.open(filename, \"wb\") as wf:\n",
    "      wf.setnchannels(channels)\n",
    "      wf.setsampwidth(sample_width)\n",
    "      wf.setframerate(rate)\n",
    "      wf.writeframes(pcm)\n",
    "\n",
    "GEMINI_API_KEY = os.getenv(\"GEMINI_API_TOKEN\")\n",
    "client = genai.Client(api_key=GEMINI_API_KEY)\n",
    "\n",
    "response = client.models.generate_content(\n",
    "   model=\"gemini-2.5-flash-preview-tts\",\n",
    "   contents=\"Lies bitte folgenden Text vor, als wärest du Teil eines Podcasts: Weißt du, manchmal stell ich mir vor, wie es wär, auf dem Meer zu leben. Weit draußen, nur Wasser bis zum Horizont, kein Straßenlärm, keine E-Mails, keine Termine. Nur Wind, Wellen – und das Hier und Jetzt.\",\n",
    "   config=types.GenerateContentConfig(\n",
    "      response_modalities=[\"AUDIO\"],\n",
    "      speech_config=types.SpeechConfig(\n",
    "         voice_config=types.VoiceConfig(\n",
    "            prebuilt_voice_config=types.PrebuiltVoiceConfig(\n",
    "               voice_name='Kore',\n",
    "            )\n",
    "         )\n",
    "      ),\n",
    "   )\n",
    ")\n",
    "\n",
    "data = response.candidates[0].content.parts[0].inline_data.data\n",
    "\n",
    "file_name='out.wav'\n",
    "wave_file(file_name, data) # Saves the file to current directory"
   ],
   "id": "f7d225b460a58217",
   "outputs": [],
   "execution_count": 11
  }
 ],
 "metadata": {
  "kernelspec": {
   "display_name": "Python 3",
   "language": "python",
   "name": "python3"
  },
  "language_info": {
   "codemirror_mode": {
    "name": "ipython",
    "version": 2
   },
   "file_extension": ".py",
   "mimetype": "text/x-python",
   "name": "python",
   "nbconvert_exporter": "python",
   "pygments_lexer": "ipython2",
   "version": "2.7.6"
  }
 },
 "nbformat": 4,
 "nbformat_minor": 5
}
