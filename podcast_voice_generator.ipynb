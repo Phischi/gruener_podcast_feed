{
 "cells": [
  {
   "cell_type": "code",
   "id": "initial_id",
   "metadata": {
    "collapsed": true,
    "ExecuteTime": {
     "end_time": "2025-05-31T14:12:07.303040Z",
     "start_time": "2025-05-31T14:12:04.962493Z"
    }
   },
   "source": [
    "import openai\n",
    "import os\n",
    "from dotenv import load_dotenv\n",
    "\n",
    "# --- Configuration ---\n",
    "# Replace with your actual OpenAI API key\n",
    "# It's best to set this as an environment variable for security\n",
    "# For example: openai.api_key = os.getenv(\"OPENAI_API_KEY\")\n",
    "load_dotenv()\n",
    "openai.api_key = os.getenv(\"OPENAI_API_KEY\")\n",
    "\n",
    "client = openai.OpenAI()\n",
    "\n",
    "explanation_text = None\n",
    "try:\n",
    "    print(f\"\\n🤖 Text wird generiert...\")\n",
    "    response = client.chat.completions.create(\n",
    "        model=\"gpt-3.5-turbo\",  # Or your preferred model like \"gpt-4o\"\n",
    "        messages=[\n",
    "            {\"role\": \"system\", \"content\": \"Du bist ein nützlicher und hilfsbereiter Assisstent, welcher klare und simple Erklärungen liefert.\"},\n",
    "            {\"role\": \"user\", \"content\": f\"Philosophiere über das Leben und die Reize des Meeres.\"}\n",
    "        ],\n",
    "        max_tokens=150,\n",
    "        temperature=0.7\n",
    "    )\n",
    "    explanation_text = response.choices[0].message.content.strip()\n",
    "    print(f\"\\n📜 Explanation:\\n{explanation_text}\")\n",
    "except Exception as e:\n",
    "    print(f\"Error generating text with OpenAI: {e}\")"
   ],
   "outputs": [
    {
     "name": "stdout",
     "output_type": "stream",
     "text": [
      "\n",
      "🤖 Generating explanation for 'What is the meaning of life?'...\n",
      "\n",
      "📜 Explanation:\n",
      "Das Leben und das Meer haben viele Parallelen, da beide unberechenbar und voller Schönheit sind. Das Leben, wie das Meer, kann ruhig und friedlich sein, aber auch stürmisch und gefährlich. Die Wellen des Meeres symbolisieren die Höhen und Tiefen, die wir im Leben erleben. Die Weite des Meeres erinnert uns daran, wie groß und vielfältig die Welt ist, und ermutigt uns, nach neuen Abenteuern zu streben.\n",
      "\n",
      "Die Reize des Meeres sind unendlich: Der Klang der Wellen, der Geruch des Salzwassers, die Weite des Horizonts\n"
     ]
    }
   ],
   "execution_count": 15
  },
  {
   "metadata": {
    "ExecuteTime": {
     "end_time": "2025-05-31T14:28:54.079865Z",
     "start_time": "2025-05-31T14:28:14.579781Z"
    }
   },
   "cell_type": "code",
   "source": [
    "import playsound\n",
    "from pathlib import Path\n",
    "\n",
    "if explanation_text:\n",
    "    print(\"\\n🔊 Converting text to OpenAI speech...\")\n",
    "    cur_dir = os.getcwd()\n",
    "    speech_file_path = cur_dir + \"/speech.mp3\"\n",
    "\n",
    "    try:\n",
    "        # Use .with_streaming_response for the API call\n",
    "        with client.audio.speech.with_streaming_response.create(\n",
    "            model=\"tts-1\",\n",
    "            voice=\"alloy\",\n",
    "            input=explanation_text,\n",
    "            # response_format=\"mp3\" # mp3 is default\n",
    "        ) as response:\n",
    "            # Now, use the .stream_to_file() method from the streaming response object\n",
    "            response.stream_to_file(speech_file_path)\n",
    "\n",
    "        print(f\"Audio saved as {speech_file_path}\")\n",
    "        print(\"Playing audio...\")\n",
    "        playsound.playsound(str(speech_file_path))\n",
    "        print(\"Playback finished.\")\n",
    "\n",
    "    except Exception as e:\n",
    "        print(f\"Error with OpenAI TTS or playing sound: {e}\")\n",
    "        if \"401\" in str(e): # Basic check for authentication error\n",
    "             print(\"This might be an issue with your OpenAI API key or organization setup for TTS.\")\n",
    "        elif \"Unsupported olha\" in str(e) or \"Unsupported model\" in str(e): # Example for model/voice error\n",
    "             print(\"Please ensure the selected voice and model for TTS are supported by your API access.\")\n",
    "else:\n",
    "    print(\"No explanation text to convert to speech.\")"
   ],
   "id": "6c322b80e0b933e5",
   "outputs": [
    {
     "name": "stdout",
     "output_type": "stream",
     "text": [
      "\n",
      "🔊 Converting text to OpenAI speech...\n",
      "Audio saved as /home/philipp/projects/gruene/podcast/speech.mp3\n",
      "Playing audio...\n",
      "Playback finished.\n"
     ]
    }
   ],
   "execution_count": 29
  },
  {
   "metadata": {},
   "cell_type": "code",
   "outputs": [],
   "execution_count": null,
   "source": "",
   "id": "dc8c0257df8f35f"
  }
 ],
 "metadata": {
  "kernelspec": {
   "display_name": "Python 3",
   "language": "python",
   "name": "python3"
  },
  "language_info": {
   "codemirror_mode": {
    "name": "ipython",
    "version": 2
   },
   "file_extension": ".py",
   "mimetype": "text/x-python",
   "name": "python",
   "nbconvert_exporter": "python",
   "pygments_lexer": "ipython2",
   "version": "2.7.6"
  }
 },
 "nbformat": 4,
 "nbformat_minor": 5
}
